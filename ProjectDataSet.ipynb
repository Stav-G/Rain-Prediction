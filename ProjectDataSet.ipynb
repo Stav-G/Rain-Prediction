{
 "cells": [
  {
   "cell_type": "markdown",
   "metadata": {},
   "source": [
    "# IMPORTING LIBRARIES"
   ]
  },
  {
   "cell_type": "code",
   "execution_count": null,
   "metadata": {},
   "outputs": [],
   "source": [
    "import json\n",
    "import re\n",
    "import os                    \n",
    "import datetime\n",
    "import sklearn\n",
    "import bs4\n",
    "import csv\n",
    "import requests\n",
    "import time\n",
    "import urllib\n",
    "import re\n",
    "import pandas as pd\n",
    "import numpy as np\n",
    "import matplotlib as mpl\n",
    "import matplotlib.pyplot as plt\n",
    "import seaborn as sns\n",
    "from datetime import datetime\n",
    "from bs4 import BeautifulSoup as bs\n",
    "from sklearn.preprocessing import LabelEncoder\n",
    "from sklearn import preprocessing\n",
    "from sklearn.preprocessing import StandardScaler\n",
    "from sklearn.model_selection import train_test_split\n",
    "from keras.layers import Dense, BatchNormalization, Dropout, LSTM\n",
    "from keras.models import Sequential\n",
    "from tensorflow.keras.utils import to_categorical\n",
    "from keras.optimizers import Adam\n",
    "from tensorflow.keras import regularizers\n",
    "from sklearn.metrics import precision_score, recall_score, confusion_matrix, classification_report, accuracy_score, f1_score\n",
    "from keras import callbacks\n",
    "from time import sleep\n",
    "\n",
    "import selenium \n",
    "from datetime import date, timedelta\n",
    "from selenium import webdriver\n",
    "from selenium.webdriver.common.by import By\n",
    "from selenium.webdriver.support.ui import WebDriverWait\n",
    "from selenium.webdriver.support import expected_conditions as EC\n",
    "np.random.seed(0)\n",
    "pd.options.display.max_columns = None\n",
    "pd.options.display.max_rows = None\n"
   ]
  },
  {
   "cell_type": "code",
   "execution_count": null,
   "metadata": {},
   "outputs": [],
   "source": [
    "def make_df(url):\n",
    "    url_re  = requests.get(url)\n",
    "    soup =  bs(url_re.content,'html.parser')\n",
    "    table = soup.find_all('table')\n",
    "    raw_of_my_df = [row.text.splitlines() for row in table]\n",
    "    raw_of_my_df = raw_of_my_df[:-9] \n",
    "    for i in range(len(raw_of_my_df)):\n",
    "        raw_of_my_df[i] = raw_of_my_df[i][2:len(raw_of_my_df[i]):3]\n",
    "    for i in range(len(raw_of_my_df)):\n",
    "        c = ['.'.join(re.findall(\"\\d+\",str(raw_of_my_df[i][j].split()[:5])))for j in range(len(raw_of_my_df[i]))]\n",
    "        list_of_df.append(c)\n",
    "        index.append(dates[d] + c[0])\n",
    "    l_index = [index[i] for i in range(len(index)) if len(index[i]) > 6]\n",
    "    my_df_day = [list_of_df[i][1:] for i in range(len(list_of_df)) if len(list_of_df[i][1:]) == 19]\n",
    "    last_index = [datetime.strptime(str(l_index[i]), '%Y%m%d').strftime('%Y-%m-%d') for i in range(len(l_index))]\n",
    "    \n",
    "    cols = ['Average temperature (°F)', 'Average humidity (%)',\n",
    "           'Average dewpoint (°F)', 'Average barometer (in)',\n",
    "           'Average windspeed (mph)', 'Average gustspeed (mph)',\n",
    "           'Average direction (°deg)', 'Rainfall for month (in)',\n",
    "           'Rainfall for year (in)', 'Maximum rain per minute',\n",
    "           'Maximum temperature (°F)', 'Minimum temperature (°F)',\n",
    "           'Maximum humidity (%)', 'Minimum humidity (%)', 'Maximum pressure',\n",
    "           'Minimum pressure', 'Maximum windspeed (mph)',\n",
    "           'Maximum gust speed (mph)', 'Maximum heat index (°F)']\n",
    "    \n",
    "    return pd.DataFrame(my_df_day, columns = cols, index = last_index)\n",
    "    "
   ]
  },
  {
   "cell_type": "code",
   "execution_count": null,
   "metadata": {},
   "outputs": [],
   "source": [
    "def make_rain_df(url):\n",
    "    url_rain  = requests.get(url)\n",
    "    soup_rain =  bs(url_rain.content,'html.parser')\n",
    "    td_tags = soup_rain.find_all('td')\n",
    "    for i in range(len(td_tags)):\n",
    "        if(str(td_tags[i].get_text()) == \"Daily Rain Totals\"):\n",
    "            j=i+1\n",
    "            while(j < (len(td_tags))): \n",
    "                if len(str(td_tags[j].get_text())) > 21:\n",
    "                    break\n",
    "                result.append(str(td_tags[j].get_text()))\n",
    "                j+=1\n",
    "    columns = ['Daily Rain Totals']\n",
    "    return pd.DataFrame(result, columns = columns)"
   ]
  },
  {
   "cell_type": "code",
   "execution_count": null,
   "metadata": {},
   "outputs": [],
   "source": [
    "def make_date_df(year,month,day):\n",
    "    temp.append( str(year)+str(month)+str(day))\n",
    "    col=['d']\n",
    "    return pd.DataFrame(temp,columns=col)"
   ]
  },
  {
   "cell_type": "code",
   "execution_count": null,
   "metadata": {},
   "outputs": [],
   "source": [
    "result=[]\n",
    "temp= []\n",
    "list_of_df = []\n",
    "index = []\n",
    "\n",
    "rows_dates = pd.date_range(start = '1/1/2006',end = '7/1/2021',freq = 'M')\n",
    "dates= [str(i)[:4] + str(i)[5:7] for i in rows_dates]\n",
    "dates[0:5]"
   ]
  },
  {
   "cell_type": "code",
   "execution_count": null,
   "metadata": {},
   "outputs": [],
   "source": [
    "#Crawling to get data of daily wearher\n",
    "\n",
    "for d in range(len(dates)):\n",
    "    url = \"http://www.estesparkweather.net/archive_reports.php?date=\"\n",
    "    url += dates[d]\n",
    "    temp_df = make_df(url)\n",
    "    data = pd.concat([temp_df])"
   ]
  },
  {
   "cell_type": "code",
   "execution_count": null,
   "metadata": {},
   "outputs": [],
   "source": [
    "#Crawling to get data of daily rain\n",
    "\n",
    "count_curr=0\n",
    "new_rows=0\n",
    "count_prev=0\n",
    "k=0\n",
    "s=0\n",
    "r=0\n",
    "\n",
    "for d in range(len(dates)):\n",
    "    url_rain = \"http://www.estesparkweather.net/archive_reports.php?date=\"\n",
    "    url_rain+= dates[d]\n",
    "    \n",
    "    temp_df_rain = make_rain_df(url_rain)\n",
    "    \n",
    "    for i in range(len(temp_df_rain)):\n",
    "        count_curr+=1\n",
    "        \n",
    "    new_rows += count_curr - count_prev\n",
    "    count_prev += new_rows\n",
    "    count_curr = 0\n",
    "    \n",
    "    temp_df_rain['Date'] = temp_df_rain['Daily Rain Totals'].str[-2:]\n",
    "    temp_df_rain['Daily rain total (in)'] = temp_df_rain['Daily Rain Totals'].str[0:5]\n",
    "    \n",
    "    year =  dates[d][0:4]\n",
    "    month = dates[d][4:6]\n",
    "    \n",
    "    for i in range(0,new_rows):\n",
    "        my_date_df = make_date_df(year,month,temp_df_rain['Date'][k])\n",
    "        df_date = pd.concat([my_date_df])\n",
    "        k+=1\n",
    "    new_rows = 0\n",
    "    data_rain = pd.concat([ temp_df_rain])"
   ]
  },
  {
   "cell_type": "code",
   "execution_count": null,
   "metadata": {},
   "outputs": [],
   "source": [
    "date"
   ]
  },
  {
   "cell_type": "code",
   "execution_count": null,
   "metadata": {},
   "outputs": [],
   "source": [
    "data_rain"
   ]
  },
  {
   "cell_type": "code",
   "execution_count": null,
   "metadata": {},
   "outputs": [],
   "source": [
    "data['Total Rain (in)'] = 0\n",
    "data"
   ]
  },
  {
   "cell_type": "code",
   "execution_count": null,
   "metadata": {},
   "outputs": [],
   "source": [
    "data.info()"
   ]
  },
  {
   "cell_type": "code",
   "execution_count": null,
   "metadata": {},
   "outputs": [],
   "source": [
    "df_date['d'] = [x.replace(' ','0') for x in df_date['d']] \n",
    "df_date"
   ]
  },
  {
   "cell_type": "code",
   "execution_count": null,
   "metadata": {},
   "outputs": [],
   "source": [
    "p=0\n",
    "for d in df_date['d']:\n",
    "    df_date.loc[p,\"Date\"] = datetime.strptime(str(d), '%Y%m%d').strftime('%Y-%m-%d')\n",
    "    p+=1\n",
    "df_date"
   ]
  },
  {
   "cell_type": "code",
   "execution_count": null,
   "metadata": {},
   "outputs": [],
   "source": [
    "data['Total Rain (in)'] = data['Total Rain (in)'].astype(float)\n",
    "data\n"
   ]
  },
  {
   "cell_type": "code",
   "execution_count": null,
   "metadata": {},
   "outputs": [],
   "source": [
    "data_rain['Daily rain total (in)'] = data_rain['Daily rain total (in)'].astype(float)\n",
    "data_rain"
   ]
  },
  {
   "cell_type": "code",
   "execution_count": null,
   "metadata": {},
   "outputs": [],
   "source": [
    "curr_rain=0\n",
    "curr_df=0\n",
    "count=0\n",
    "temp_rain = data.copy()\n",
    "for da in df_date['Date']:\n",
    "    for ind in temp_rain.index:\n",
    "        if(ind == da):\n",
    "            count+=1\n",
    "            temp_rain['Total Rain (in)'][curr_df]=data_rain.loc[curr_rain,'Daily rain total (in)']\n",
    "            curr_df+=1\n",
    "            curr_df=0\n",
    "            break\n",
    "        else:\n",
    "            curr_df+=1 \n",
    "    curr_df=0\n",
    "    curr_rain+=1"
   ]
  },
  {
   "cell_type": "code",
   "execution_count": null,
   "metadata": {},
   "outputs": [],
   "source": [
    "temp_rain"
   ]
  },
  {
   "cell_type": "code",
   "execution_count": null,
   "metadata": {},
   "outputs": [],
   "source": [
    "#mydf.rename(columns={'first name':'First_Name'},inplace=True)\n",
    "#data.rename(columns={'Unnamed: 0':'Date'},inplace=True)\n",
    "#data"
   ]
  },
  {
   "cell_type": "code",
   "execution_count": null,
   "metadata": {},
   "outputs": [],
   "source": [
    "temp = temp_rain.copy()"
   ]
  },
  {
   "cell_type": "code",
   "execution_count": null,
   "metadata": {},
   "outputs": [],
   "source": [
    "num=0\n",
    "temp['Total Rain (mm)'] = 0\n",
    "temp['Total Rain (mm)'] = temp['Total Rain (mm)'].astype(float)\n",
    "for i in range(len(temp['Total Rain (in)'])):\n",
    "    temp['Total Rain (mm)'][i] += float(temp['Total Rain (in)'][i] * 25.4)\n",
    "temp"
   ]
  },
  {
   "cell_type": "code",
   "execution_count": null,
   "metadata": {},
   "outputs": [],
   "source": [
    "dates_range= pd.date_range(start = '1/1/2006',end = '7/1/2021',freq = 'D')\n",
    "dates_range"
   ]
  },
  {
   "cell_type": "code",
   "execution_count": null,
   "metadata": {},
   "outputs": [],
   "source": [
    " col = ['Date', 'Average temperature (°F)', 'Average humidity (%)',\n",
    "       'Average dewpoint (°F)', 'Average barometer (in)',\n",
    "       'Average windspeed (mph)', 'Average gustspeed (mph)',\n",
    "       'Average direction (°deg)', 'Rainfall for month (in)',\n",
    "       'Rainfall for year (in)', 'Maximum rain per minute',\n",
    "       'Maximum temperature (°F)', 'Minimum temperature (°F)',\n",
    "       'Maximum humidity (%)', 'Minimum humidity (%)', 'Maximum pressure',\n",
    "       'Minimum pressure', 'Maximum windspeed (mph)',\n",
    "       'Maximum gust speed (mph)', 'Maximum heat index (°F)',\n",
    "       'Total Rain (in)', 'Total Rain (mm)']\n",
    "df_total = pd.DataFrame(columns=col)\n",
    "df_total['Date'] = pd.to_datetime(dates_range)\n",
    "df_total"
   ]
  },
  {
   "cell_type": "code",
   "execution_count": null,
   "metadata": {},
   "outputs": [],
   "source": [
    "col_inx=[]\n",
    "for co in temp.columns:\n",
    "    col_inx.append(co)\n",
    "col_inx=col_inx[1:]\n",
    "col_inx"
   ]
  },
  {
   "cell_type": "code",
   "execution_count": null,
   "metadata": {},
   "outputs": [],
   "source": [
    "temp.to_csv(\"My_data_CO_w.csv\")"
   ]
  },
  {
   "cell_type": "code",
   "execution_count": null,
   "metadata": {},
   "outputs": [],
   "source": [
    "my_data=pd.read_csv(\"My_data_CO_w.csv\")\n",
    "my_data"
   ]
  },
  {
   "cell_type": "code",
   "execution_count": null,
   "metadata": {},
   "outputs": [],
   "source": [
    "my_data.rename(columns={'Unnamed: 0':'Date'},inplace=True)\n",
    "my_data"
   ]
  },
  {
   "cell_type": "code",
   "execution_count": null,
   "metadata": {},
   "outputs": [],
   "source": [
    "curr_df=0\n",
    "curr_rain=0\n",
    "count=0\n",
    "coun=0\n",
    "for ind in my_data['Date']:\n",
    "    for da in df_total['Date']:\n",
    "        count+=1\n",
    "        if(ind == (str(da)[:10])):\n",
    "            coun+=1\n",
    "            for co in col_inx:\n",
    "                df_total.loc[curr_df,co] = my_data.loc[curr_rain,co]\n",
    "            curr_df+=1\n",
    "            curr_df=0\n",
    "            break\n",
    "        else:\n",
    "             curr_df+=1 \n",
    "    curr_df=0\n",
    "    curr_rain+=1\n",
    "df_total"
   ]
  },
  {
   "cell_type": "code",
   "execution_count": null,
   "metadata": {},
   "outputs": [],
   "source": [
    "df_total.to_csv(\"DataSet.csv\")"
   ]
  }
 ],
 "metadata": {
  "kernelspec": {
   "display_name": "Python 3",
   "language": "python",
   "name": "python3"
  },
  "language_info": {
   "codemirror_mode": {
    "name": "ipython",
    "version": 3
   },
   "file_extension": ".py",
   "mimetype": "text/x-python",
   "name": "python",
   "nbconvert_exporter": "python",
   "pygments_lexer": "ipython3",
   "version": "3.8.5"
  }
 },
 "nbformat": 4,
 "nbformat_minor": 4
}
